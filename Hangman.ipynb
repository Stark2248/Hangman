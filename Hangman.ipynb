{
 "cells": [
  {
   "cell_type": "code",
   "execution_count": 4,
   "metadata": {},
   "outputs": [
    {
     "name": "stdout",
     "output_type": "stream",
     "text": [
      "What is your name?Amlan\n",
      "hello Amlan Time to play hangman\n",
      "\n",
      "\n",
      "_ _ _ _ _ _ _ \n",
      "Guess a character:s\n",
      "_ _ _ s s _ s \n",
      "Guess a character:g\n",
      "g _ _ s s _ s \n",
      "Guess a character:l\n",
      "g l _ s s _ s \n",
      "Guess a character:a\n",
      "g l a s s _ s \n",
      "Guess a character:e\n",
      "g l a s s e s \n",
      "You Won\n",
      "Do you want to play more?(0=no/1=Yes):0\n"
     ]
    }
   ],
   "source": [
    "import time\n",
    "import random\n",
    "name=input(\"What is your name?\")\n",
    "print(\"hello \"+name+\" Time to play hangman\")\n",
    "print(\"\")\n",
    "time.sleep(1)\n",
    "print()\n",
    "time.sleep(0.5)\n",
    "words = [\"hangman\", \"chairs\", \"backpack\", \"bodywash\", \"clothing\",\"computer\", \"python\", \"program\", \"glasses\", \"sweatshirt\",\"sweatpants\", \"mattress\", \"friends\", \"clocks\", \"biology\",\"algebra\", \"suitcase\", \"knives\", \"ninjas\", \"shampoo\"]\n",
    "while True:\n",
    "   \n",
    "    word=random.choice(words)\n",
    "    guesses=\"\"\n",
    "    turns=10\n",
    "    while turns>0:\n",
    "        failed=0\n",
    "        for char in word:\n",
    "            if char in guesses:\n",
    "                print(char+\" \",end='')\n",
    "            else:\n",
    "                print(\"_ \",end='')\n",
    "                failed=failed+1\n",
    "        if(failed==0):\n",
    "            print()\n",
    "            print(\"You Won\")\n",
    "            break;\n",
    "        print()\n",
    "        guess=input(\"Guess a character:\")\n",
    "        guesses+=guess\n",
    "        if guess not in word:\n",
    "            turns=turns-1\n",
    "            print(\"Wrong\")\n",
    "            print(\"you have\")\n",
    "            print(turns)\n",
    "            print(\"guess left\")\n",
    "        if turns==0:\n",
    "            print(\"You looses\")\n",
    "    o=input(\"Do you want to play more?(0=no/1=Yes):\")\n",
    "    opt=int(o)\n",
    "    if(opt==0):\n",
    "        break"
   ]
  },
  {
   "cell_type": "code",
   "execution_count": null,
   "metadata": {},
   "outputs": [],
   "source": []
  }
 ],
 "metadata": {
  "kernelspec": {
   "display_name": "Python 3",
   "language": "python",
   "name": "python3"
  },
  "language_info": {
   "codemirror_mode": {
    "name": "ipython",
    "version": 3
   },
   "file_extension": ".py",
   "mimetype": "text/x-python",
   "name": "python",
   "nbconvert_exporter": "python",
   "pygments_lexer": "ipython3",
   "version": "3.7.3"
  }
 },
 "nbformat": 4,
 "nbformat_minor": 2
}
